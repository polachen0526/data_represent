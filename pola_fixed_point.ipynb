{
 "cells": [
  {
   "cell_type": "code",
   "execution_count": 1,
   "id": "2511e93a",
   "metadata": {},
   "outputs": [],
   "source": [
    "from pola_fixed_point_API import *"
   ]
  },
  {
   "cell_type": "code",
   "execution_count": 2,
   "id": "986ff4c3",
   "metadata": {},
   "outputs": [
    {
     "name": "stdout",
     "output_type": "stream",
     "text": [
      "(3, 256, 256)\n",
      "<class 'list'>\n"
     ]
    }
   ],
   "source": [
    "reader = {}\n",
    "reader[\"floating_answer\"] = read_picture_from_jpg(\"./frame00700_256.jpg\")\n",
    "reader[\"fixed_answer\"]    = np.array([0])\n",
    "TODO_LIST = [\"conv\",\"batch\",\"relu\",\"max_pool\"]"
   ]
  },
  {
   "cell_type": "code",
   "execution_count": 1,
   "id": "cb002967",
   "metadata": {},
   "outputs": [
    {
     "ename": "NameError",
     "evalue": "name 'reader' is not defined",
     "output_type": "error",
     "traceback": [
      "\u001b[1;31m---------------------------------------------------------------------------\u001b[0m",
      "\u001b[1;31mNameError\u001b[0m                                 Traceback (most recent call last)",
      "\u001b[1;32m~\\AppData\\Local\\Temp/ipykernel_32580/3624613697.py\u001b[0m in \u001b[0;36m<module>\u001b[1;34m\u001b[0m\n\u001b[1;32m----> 1\u001b[1;33m \u001b[0mreader\u001b[0m\u001b[1;33m[\u001b[0m\u001b[1;34m\"floating_answer\"\u001b[0m\u001b[1;33m]\u001b[0m\u001b[1;33m\u001b[0m\u001b[1;33m\u001b[0m\u001b[0m\n\u001b[0m",
      "\u001b[1;31mNameError\u001b[0m: name 'reader' is not defined"
     ]
    }
   ],
   "source": []
  },
  {
   "cell_type": "code",
   "execution_count": 3,
   "id": "f41fac37",
   "metadata": {
    "scrolled": true
   },
   "outputs": [
    {
     "name": "stdout",
     "output_type": "stream",
     "text": [
      "conv_kernel = 3 , conv_stride = 1, padding_size = 1\n",
      "max_pool_kernel = (2, 2) , max_pool_stride = (2, 2)\n",
      "relu_value = 0.10000000149011612\n",
      "batch_number is 1\n",
      "weight file is open and read\n"
     ]
    },
    {
     "ename": "ValueError",
     "evalue": "cannot reshape array of size 73728 into shape (16,3,9)",
     "output_type": "error",
     "traceback": [
      "\u001b[1;31m---------------------------------------------------------------------------\u001b[0m",
      "\u001b[1;31mValueError\u001b[0m                                Traceback (most recent call last)",
      "\u001b[1;32m~\\AppData\\Local\\Temp/ipykernel_1388/2147931234.py\u001b[0m in \u001b[0;36m<module>\u001b[1;34m\u001b[0m\n\u001b[1;32m----> 1\u001b[1;33m floating_answer1 , fixed_answer1 , float_node1 , fixed_node1= layer_information(TODO_List=TODO_LIST,\n\u001b[0m\u001b[0;32m      2\u001b[0m                                                    \u001b[0mlayer_number\u001b[0m\u001b[1;33m=\u001b[0m\u001b[1;34m\"layer1\"\u001b[0m\u001b[1;33m,\u001b[0m\u001b[1;33m\u001b[0m\u001b[1;33m\u001b[0m\u001b[0m\n\u001b[0;32m      3\u001b[0m                                                    \u001b[0minput_feature_map_array\u001b[0m\u001b[1;33m=\u001b[0m\u001b[0mreader\u001b[0m\u001b[1;33m,\u001b[0m\u001b[1;33m\u001b[0m\u001b[1;33m\u001b[0m\u001b[0m\n\u001b[0;32m      4\u001b[0m                                                    \u001b[0mconv\u001b[0m\u001b[1;33m=\u001b[0m\u001b[1;33m(\u001b[0m\u001b[1;34m\"conv\"\u001b[0m\u001b[1;33m,\u001b[0m\u001b[1;36m3\u001b[0m\u001b[1;33m,\u001b[0m\u001b[1;36m1\u001b[0m\u001b[1;33m,\u001b[0m\u001b[1;36m1\u001b[0m\u001b[1;33m)\u001b[0m\u001b[1;33m,\u001b[0m\u001b[1;33m\u001b[0m\u001b[1;33m\u001b[0m\u001b[0m\n\u001b[0;32m      5\u001b[0m                                                    \u001b[0mmax_pool\u001b[0m\u001b[1;33m=\u001b[0m\u001b[1;33m(\u001b[0m\u001b[1;34m\"max_pool\"\u001b[0m\u001b[1;33m,\u001b[0m\u001b[1;33m(\u001b[0m\u001b[1;36m2\u001b[0m\u001b[1;33m,\u001b[0m\u001b[1;36m2\u001b[0m\u001b[1;33m)\u001b[0m\u001b[1;33m,\u001b[0m\u001b[1;33m(\u001b[0m\u001b[1;36m2\u001b[0m\u001b[1;33m,\u001b[0m\u001b[1;36m2\u001b[0m\u001b[1;33m)\u001b[0m\u001b[1;33m)\u001b[0m\u001b[1;33m,\u001b[0m\u001b[1;33m\u001b[0m\u001b[1;33m\u001b[0m\u001b[0m\n",
      "\u001b[1;32m~\\Desktop\\pola_ML\\pola_fixed_point_API.py\u001b[0m in \u001b[0;36mlayer_information\u001b[1;34m(TODO_List, layer_number, input_feature_map_array, conv, max_pool, relu, batch, output_channel, branch_node)\u001b[0m\n\u001b[0;32m    205\u001b[0m     \u001b[0mmax_pool_en\u001b[0m \u001b[1;33m,\u001b[0m\u001b[0mmax_pool_kernel\u001b[0m    \u001b[1;33m,\u001b[0m\u001b[0mmax_pool_stride\u001b[0m                     \u001b[1;33m=\u001b[0m \u001b[0mfunc_parameter_parser_max_pool\u001b[0m\u001b[1;33m(\u001b[0m\u001b[0mmax_pool\u001b[0m\u001b[1;33m)\u001b[0m\u001b[1;33m\u001b[0m\u001b[1;33m\u001b[0m\u001b[0m\n\u001b[0;32m    206\u001b[0m     \u001b[0mrelu_en\u001b[0m     \u001b[1;33m,\u001b[0m\u001b[0mrelu_value\u001b[0m                                              \u001b[1;33m=\u001b[0m \u001b[0mfunc_parameter_parser_relu\u001b[0m\u001b[1;33m(\u001b[0m\u001b[0mrelu\u001b[0m\u001b[1;33m)\u001b[0m\u001b[1;33m\u001b[0m\u001b[1;33m\u001b[0m\u001b[0m\n\u001b[1;32m--> 207\u001b[1;33m     \u001b[0mbatch_en\u001b[0m    \u001b[1;33m,\u001b[0m\u001b[0mweight_array\u001b[0m    \u001b[1;33m,\u001b[0m\u001b[0malpha\u001b[0m   \u001b[1;33m,\u001b[0m\u001b[0mbeta\u001b[0m  \u001b[1;33m,\u001b[0m\u001b[0mbias_array\u001b[0m             \u001b[1;33m=\u001b[0m \u001b[0mfunc_parameter_parser_batch\u001b[0m\u001b[1;33m(\u001b[0m\u001b[0mbatch\u001b[0m\u001b[1;33m)\u001b[0m\u001b[1;33m\u001b[0m\u001b[1;33m\u001b[0m\u001b[0m\n\u001b[0m\u001b[0;32m    208\u001b[0m     \u001b[0mmse_array\u001b[0m \u001b[1;33m=\u001b[0m \u001b[1;33m[\u001b[0m\u001b[1;33m]\u001b[0m\u001b[1;33m\u001b[0m\u001b[1;33m\u001b[0m\u001b[0m\n\u001b[0;32m    209\u001b[0m     \u001b[0mnext_layer_array\u001b[0m \u001b[1;33m=\u001b[0m \u001b[1;33m[\u001b[0m\u001b[1;33m]\u001b[0m\u001b[1;33m\u001b[0m\u001b[1;33m\u001b[0m\u001b[0m\n",
      "\u001b[1;32m~\\Desktop\\pola_ML\\pola_fixed_point_API.py\u001b[0m in \u001b[0;36mfunc_parameter_parser_batch\u001b[1;34m(para)\u001b[0m\n\u001b[0;32m    311\u001b[0m         \u001b[1;32mfor\u001b[0m \u001b[0mi\u001b[0m \u001b[1;32min\u001b[0m \u001b[0mrange\u001b[0m\u001b[1;33m(\u001b[0m\u001b[1;36m2\u001b[0m\u001b[1;33m,\u001b[0m\u001b[0mlen\u001b[0m\u001b[1;33m(\u001b[0m\u001b[0mpara\u001b[0m\u001b[1;33m)\u001b[0m\u001b[1;33m)\u001b[0m\u001b[1;33m:\u001b[0m\u001b[1;33m\u001b[0m\u001b[1;33m\u001b[0m\u001b[0m\n\u001b[0;32m    312\u001b[0m             \u001b[1;32mif\u001b[0m\u001b[1;33m(\u001b[0m\u001b[0mpara\u001b[0m\u001b[1;33m[\u001b[0m\u001b[0mi\u001b[0m\u001b[1;33m]\u001b[0m\u001b[1;33m[\u001b[0m\u001b[1;36m0\u001b[0m\u001b[1;33m]\u001b[0m\u001b[1;33m==\u001b[0m\u001b[1;34m\"weight\"\u001b[0m\u001b[1;33m)\u001b[0m\u001b[1;33m:\u001b[0m\u001b[1;33m\u001b[0m\u001b[1;33m\u001b[0m\u001b[0m\n\u001b[1;32m--> 313\u001b[1;33m                 \u001b[0mweight\u001b[0m   \u001b[1;33m=\u001b[0m \u001b[0mread_parameter\u001b[0m\u001b[1;33m(\u001b[0m\u001b[0mfile_serial\u001b[0m\u001b[1;33m=\u001b[0m\u001b[1;34m\"conv2d\"\u001b[0m\u001b[1;33m,\u001b[0m\u001b[0mfile_name\u001b[0m\u001b[1;33m=\u001b[0m\u001b[1;34m\"weight\"\u001b[0m\u001b[1;33m,\u001b[0m\u001b[0mfile_number\u001b[0m\u001b[1;33m=\u001b[0m\u001b[0mbatch_number\u001b[0m\u001b[1;33m)\u001b[0m\u001b[1;33m.\u001b[0m\u001b[0mreshape\u001b[0m\u001b[1;33m(\u001b[0m\u001b[1;33m(\u001b[0m\u001b[0mpara\u001b[0m\u001b[1;33m[\u001b[0m\u001b[0mi\u001b[0m\u001b[1;33m]\u001b[0m\u001b[1;33m[\u001b[0m\u001b[1;36m1\u001b[0m\u001b[1;33m]\u001b[0m\u001b[1;33m,\u001b[0m\u001b[0mpara\u001b[0m\u001b[1;33m[\u001b[0m\u001b[0mi\u001b[0m\u001b[1;33m]\u001b[0m\u001b[1;33m[\u001b[0m\u001b[1;36m2\u001b[0m\u001b[1;33m]\u001b[0m\u001b[1;33m,\u001b[0m\u001b[0mpara\u001b[0m\u001b[1;33m[\u001b[0m\u001b[0mi\u001b[0m\u001b[1;33m]\u001b[0m\u001b[1;33m[\u001b[0m\u001b[1;36m3\u001b[0m\u001b[1;33m]\u001b[0m\u001b[1;33m)\u001b[0m\u001b[1;33m)\u001b[0m\u001b[1;33m\u001b[0m\u001b[1;33m\u001b[0m\u001b[0m\n\u001b[0m\u001b[0;32m    314\u001b[0m                 \u001b[0mprint\u001b[0m\u001b[1;33m(\u001b[0m\u001b[1;34m\"open weight ready!!!\"\u001b[0m\u001b[1;33m)\u001b[0m\u001b[1;33m\u001b[0m\u001b[1;33m\u001b[0m\u001b[0m\n\u001b[0;32m    315\u001b[0m             \u001b[1;32melif\u001b[0m\u001b[1;33m(\u001b[0m\u001b[0mpara\u001b[0m\u001b[1;33m[\u001b[0m\u001b[0mi\u001b[0m\u001b[1;33m]\u001b[0m\u001b[1;33m==\u001b[0m\u001b[1;34m\"bias\"\u001b[0m\u001b[1;33m)\u001b[0m\u001b[1;33m:\u001b[0m\u001b[1;33m\u001b[0m\u001b[1;33m\u001b[0m\u001b[0m\n",
      "\u001b[1;31mValueError\u001b[0m: cannot reshape array of size 73728 into shape (16,3,9)"
     ]
    }
   ],
   "source": [
    "floating_answer1 , fixed_answer1 , float_node1 , fixed_node1= layer_information(TODO_List=TODO_LIST,\n",
    "                                                   layer_number=\"layer1\",\n",
    "                                                   input_feature_map_array=reader,\n",
    "                                                   conv=(\"conv\",3,1,1),\n",
    "                                                   max_pool=(\"max_pool\",(2,2),(2,2)),\n",
    "                                                   relu=(\"Leakyrelu\",0.10000000149011612),\n",
    "                                                   batch=(\"batch\",1,(\"weight\",16,3,9),(\"gamma\"),(\"variance\"),(\"mean\"),(\"beta\")),\n",
    "                                                   output_channel=16,\n",
    "                                                   branch_node = None\n",
    "                                                   )"
   ]
  },
  {
   "cell_type": "code",
   "execution_count": null,
   "id": "f9fc35d8",
   "metadata": {},
   "outputs": [],
   "source": [
    "reader = {}\n",
    "reader[\"floating_answer\"] = floating_answer1\n",
    "reader[\"fixed_answer\"]    = fixed_answer1\n",
    "TODO_LIST = [\"conv\",\"batch\",\"relu\",\"max_pool\"]\n",
    "print(len(floating_answer1))\n",
    "print(len(floating_answer1[0]))\n",
    "print(len(floating_answer1[0][0]))"
   ]
  },
  {
   "cell_type": "code",
   "execution_count": null,
   "id": "c893dc1c",
   "metadata": {},
   "outputs": [],
   "source": [
    "floating_answer2 , fixed_answer2 , float_node2 , fixed_node2 = layer_information(TODO_List=TODO_LIST,\n",
    "                                                   layer_number=\"layer2\",\n",
    "                                                   input_feature_map_array=reader,\n",
    "                                                   conv=(\"conv\",3,1,1),\n",
    "                                                   max_pool=(\"max_pool\",(2,2),(2,2)),\n",
    "                                                   relu=(\"Leakyrelu\",0.10000000149011612),\n",
    "                                                   batch=(\"batch\",2,(\"weight\",32,16,9),(\"gamma\"),(\"variance\"),(\"mean\"),(\"beta\")),\n",
    "                                                   output_channel=32,\n",
    "                                                   branch_node = None\n",
    "                                                   )"
   ]
  },
  {
   "cell_type": "code",
   "execution_count": null,
   "id": "a8433798",
   "metadata": {},
   "outputs": [],
   "source": [
    "reader = {}\n",
    "reader[\"floating_answer\"] = floating_answer2\n",
    "reader[\"fixed_answer\"]    = fixed_answer2\n",
    "TODO_LIST = [\"conv\",\"batch\",\"relu\",\"max_pool\"]\n",
    "print(len(floating_answer2))\n",
    "print(len(floating_answer2[0]))\n",
    "print(len(floating_answer2[0][0]))"
   ]
  },
  {
   "cell_type": "code",
   "execution_count": null,
   "id": "e260feeb",
   "metadata": {},
   "outputs": [],
   "source": [
    "floating_answer3 , fixed_answer3 , float_node3 , fixed_node3 = layer_information(TODO_List=TODO_LIST,\n",
    "                                                   layer_number=\"layer3\",\n",
    "                                                   input_feature_map_array=reader,\n",
    "                                                   conv=(\"conv\",3,1,1),\n",
    "                                                   max_pool=(\"max_pool\",(2,2),(2,2)),\n",
    "                                                   relu=(\"Leakyrelu\",0.10000000149011612),\n",
    "                                                   batch=(\"batch\",3,(\"weight\",64,32,9),(\"gamma\"),(\"variance\"),(\"mean\"),(\"beta\")),\n",
    "                                                   output_channel=64,\n",
    "                                                   branch_node = None\n",
    "                                                   )"
   ]
  },
  {
   "cell_type": "code",
   "execution_count": null,
   "id": "6b5ef765",
   "metadata": {},
   "outputs": [],
   "source": [
    "reader = {}\n",
    "reader[\"floating_answer\"] = floating_answer3\n",
    "reader[\"fixed_answer\"]    = fixed_answer3\n",
    "TODO_LIST = [\"conv\",\"batch\",\"relu\",\"max_pool\"]\n",
    "print(len(floating_answer3))\n",
    "print(len(floating_answer3[0]))\n",
    "print(len(floating_answer3[0][0]))"
   ]
  },
  {
   "cell_type": "code",
   "execution_count": null,
   "id": "72e089f0",
   "metadata": {},
   "outputs": [],
   "source": [
    "floating_answer4 , fixed_answer4 , float_node4 , fixed_node4 = layer_information(TODO_List=TODO_LIST,\n",
    "                                                   layer_number=\"layer4\",\n",
    "                                                   input_feature_map_array=reader,\n",
    "                                                   conv=(\"conv\",3,1,1),\n",
    "                                                   max_pool=(\"max_pool\",(2,2),(2,2)),\n",
    "                                                   relu=(\"Leakyrelu\",0.10000000149011612),\n",
    "                                                   batch=(\"batch\",4,(\"weight\",128,64,9),(\"gamma\"),(\"variance\"),(\"mean\"),(\"beta\")),\n",
    "                                                   output_channel=128,\n",
    "                                                   branch_node = None\n",
    "                                                   )"
   ]
  },
  {
   "cell_type": "code",
   "execution_count": null,
   "id": "c75863c8",
   "metadata": {},
   "outputs": [],
   "source": [
    "reader = {}\n",
    "reader[\"floating_answer\"] = floating_answer4\n",
    "reader[\"fixed_answer\"]    = fixed_answer4\n",
    "TODO_LIST = [\"conv\",\"batch\",\"relu\",\"max_pool\"]\n",
    "print(len(floating_answer4))\n",
    "print(len(floating_answer4[0]))\n",
    "print(len(floating_answer4[0][0]))"
   ]
  },
  {
   "cell_type": "code",
   "execution_count": null,
   "id": "91fb1ff5",
   "metadata": {},
   "outputs": [],
   "source": [
    "floating_answer5 , fixed_answer5 , float_leaky_re_lu_5 , fixed_leaky_re_lu_5 = layer_information(TODO_List=TODO_LIST,\n",
    "                                                   layer_number=\"layer5\",\n",
    "                                                   input_feature_map_array=reader,\n",
    "                                                   conv=(\"conv\",3,1,1),\n",
    "                                                   max_pool=(\"max_pool\",(2,2),(2,2)),\n",
    "                                                   relu=(\"Leakyrelu\",0.10000000149011612),\n",
    "                                                   batch=(\"batch\",5,(\"weight\",256,128,9),(\"gamma\"),(\"variance\"),(\"mean\"),(\"beta\")),\n",
    "                                                   output_channel=256,\n",
    "                                                   branch_node = \"relu\"\n",
    "                                                   )"
   ]
  },
  {
   "cell_type": "code",
   "execution_count": null,
   "id": "91e55057",
   "metadata": {},
   "outputs": [],
   "source": [
    "reader = {}\n",
    "reader[\"floating_answer\"] = floating_answer5\n",
    "reader[\"fixed_answer\"]    = fixed_answer5\n",
    "TODO_LIST = [\"conv\",\"batch\",\"relu\",\"max_pool\"]\n",
    "print(len(floating_answer5))\n",
    "print(len(floating_answer5[0]))\n",
    "print(len(floating_answer5[0][0]))"
   ]
  },
  {
   "cell_type": "code",
   "execution_count": null,
   "id": "58fd687b",
   "metadata": {},
   "outputs": [],
   "source": [
    "floating_answer6 , fixed_answer6 , float_node6 , fixed_node6 = layer_information(TODO_List=TODO_LIST,\n",
    "                                                   layer_number=\"layer6\",\n",
    "                                                   input_feature_map_array=reader,\n",
    "                                                   conv=(\"conv\",3,1,1),\n",
    "                                                   max_pool=(\"None\",(None,None),(None,None)),\n",
    "                                                   relu=(\"Leakyrelu\",0.10000000149011612),\n",
    "                                                   batch=(\"batch\",6,(\"weight\",256,256,9),(\"gamma\"),(\"variance\"),(\"mean\"),(\"beta\")),\n",
    "                                                   output_channel=256,\n",
    "                                                   branch_node = None\n",
    "                                                   )"
   ]
  },
  {
   "cell_type": "code",
   "execution_count": null,
   "id": "b689797a",
   "metadata": {},
   "outputs": [],
   "source": [
    "reader = {}\n",
    "reader[\"floating_answer\"] = floating_answer6\n",
    "reader[\"fixed_answer\"]    = fixed_answer6\n",
    "TODO_LIST = [\"conv\",\"batch\",\"relu\"]\n",
    "print(len(floating_answer6))\n",
    "print(len(floating_answer6[0]))\n",
    "print(len(floating_answer6[0][0]))"
   ]
  },
  {
   "cell_type": "code",
   "execution_count": null,
   "id": "d361f03f",
   "metadata": {},
   "outputs": [],
   "source": [
    "floating_answer7 , fixed_answer7 , float_node7 , fixed_node7 = layer_information(TODO_List=TODO_LIST,\n",
    "                                                   layer_number=\"layer7\",\n",
    "                                                   input_feature_map_array=reader,\n",
    "                                                   conv=(\"conv\",3,1,1),\n",
    "                                                   max_pool=(\"None\",(None,None),(None,None)),\n",
    "                                                   relu=(\"Leakyrelu\",0.10000000149011612),\n",
    "                                                   batch=(\"batch\",7,(\"weight\",256,256,9),(\"gamma\"),(\"variance\"),(\"mean\"),(\"beta\")),\n",
    "                                                   output_channel=256,\n",
    "                                                   branch_node = None\n",
    "                                                   )"
   ]
  },
  {
   "cell_type": "code",
   "execution_count": null,
   "id": "56a781ed",
   "metadata": {},
   "outputs": [],
   "source": [
    "reader = {}\n",
    "reader[\"floating_answer\"] = floating_answer7\n",
    "reader[\"fixed_answer\"]    = fixed_answer7\n",
    "TODO_LIST = [\"conv\",\"batch\",\"relu\"]\n",
    "print(len(floating_answer7))\n",
    "print(len(floating_answer7[0]))\n",
    "print(len(floating_answer7[0][0]))"
   ]
  },
  {
   "cell_type": "code",
   "execution_count": null,
   "id": "57a81e1c",
   "metadata": {},
   "outputs": [],
   "source": [
    "floating_answer8 , fixed_answer8 , float_node8 , fixed_node8 = layer_information(TODO_List=TODO_LIST,\n",
    "                                                   layer_number=\"layer8\",\n",
    "                                                   input_feature_map_array=reader,\n",
    "                                                   conv=(\"conv\",1,1,0),\n",
    "                                                   max_pool=(\"None\",(None,None),(None,None)),\n",
    "                                                   relu=(\"Leakyrelu\",0.10000000149011612),\n",
    "                                                   batch=(\"batch\",8,(\"weight\",64,256,1),(\"gamma\"),(\"variance\"),(\"mean\"),(\"beta\")),\n",
    "                                                   output_channel=64,\n",
    "                                                   branch_node = None\n",
    "                                                   )"
   ]
  },
  {
   "cell_type": "code",
   "execution_count": null,
   "id": "7a1d72b1",
   "metadata": {},
   "outputs": [],
   "source": [
    "reader = {}\n",
    "reader[\"floating_answer\"] = floating_answer8\n",
    "reader[\"fixed_answer\"]    = fixed_answer8\n",
    "TODO_LIST = [\"conv\",\"batch\",\"relu\"]\n",
    "print(len(floating_answer8))\n",
    "print(len(floating_answer8[0]))\n",
    "print(len(floating_answer8[0][0]))"
   ]
  },
  {
   "cell_type": "code",
   "execution_count": null,
   "id": "745bbb1a",
   "metadata": {},
   "outputs": [],
   "source": [
    "floating_answer9 , fixed_answer9 , float_node9 , fixed_node9 = layer_information(TODO_List=TODO_LIST,\n",
    "                                                   layer_number=\"layer9\",\n",
    "                                                   input_feature_map_array=reader,\n",
    "                                                   conv=(\"conv\",3,1,1),\n",
    "                                                   max_pool=(\"None\",(None,None),(None,None)),\n",
    "                                                   relu=(\"Leakyrelu\",0.10000000149011612),\n",
    "                                                   batch=(\"batch\",9,(\"weight\",128,64,9),(\"gamma\"),(\"variance\"),(\"mean\"),(\"beta\")),\n",
    "                                                   output_channel=128,\n",
    "                                                   branch_node = None\n",
    "                                                   )"
   ]
  },
  {
   "cell_type": "code",
   "execution_count": null,
   "id": "a5b3e29c",
   "metadata": {},
   "outputs": [],
   "source": [
    "reader = {}\n",
    "reader[\"floating_answer\"] = floating_answer9\n",
    "reader[\"fixed_answer\"]    = fixed_answer9\n",
    "TODO_LIST = [\"conv\"]\n",
    "print(len(floating_answer9))\n",
    "print(len(floating_answer9[0]))\n",
    "print(len(floating_answer9[0][0]))"
   ]
  },
  {
   "cell_type": "code",
   "execution_count": null,
   "id": "41e82797",
   "metadata": {},
   "outputs": [],
   "source": [
    "floating_answer10 , fixed_answer10 , float_node10 , fixed_node10 = layer_information(TODO_List=TODO_LIST,\n",
    "                                                   layer_number=\"layer10\",\n",
    "                                                   input_feature_map_array=reader,\n",
    "                                                   conv=(\"conv\",1,1,0),\n",
    "                                                   max_pool=(\"None\",(None,None),(None,None)),\n",
    "                                                   relu=(\"None\",None),\n",
    "                                                   batch=(\"batch\",10,(\"weight\",18,128,1),(\"bias\")),\n",
    "                                                   output_channel=18,\n",
    "                                                   branch_node = None\n",
    "                                                   )"
   ]
  },
  {
   "cell_type": "code",
   "execution_count": null,
   "id": "d5237bdd",
   "metadata": {},
   "outputs": [],
   "source": [
    "reader = {}\n",
    "reader[\"floating_answer\"] = floating_answer8\n",
    "reader[\"fixed_answer\"]    = fixed_answer8\n",
    "TODO_LIST = [\"conv\",\"batch\",\"relu\"]\n",
    "print(len(floating_answer8))\n",
    "print(len(floating_answer8[0]))\n",
    "print(len(floating_answer8[0][0]))"
   ]
  },
  {
   "cell_type": "code",
   "execution_count": null,
   "id": "593b0ed1",
   "metadata": {},
   "outputs": [],
   "source": [
    "floating_answer11 , fixed_answer11 ,float_node11 , fixed_node11 = layer_information(TODO_List=TODO_LIST,\n",
    "                                                   layer_number=\"layer11\",\n",
    "                                                   input_feature_map_array=reader,\n",
    "                                                   conv=(\"conv\",1,1,0),\n",
    "                                                   max_pool=(\"None\",(None,None),(None,None)),\n",
    "                                                   relu=(\"Leakyrelu\",0.10000000149011612),\n",
    "                                                   batch=(\"batch\",11,(\"weight\",32,64,1),(\"gamma\"),(\"variance\"),(\"mean\"),(\"beta\")),\n",
    "                                                   output_channel=32,\n",
    "                                                   branch_node = None\n",
    "                                                   )"
   ]
  },
  {
   "cell_type": "code",
   "execution_count": null,
   "id": "8d8f7a40",
   "metadata": {},
   "outputs": [],
   "source": [
    "fixed_upsamlind2d_array = upsampling2d(layer=fixed_answer11,upsampling_size=2)\n",
    "float_upsamlind2d_array = upsampling2d(layer=floating_answer11,upsampling_size=2)\n",
    "print(len(fixed_answer11))\n",
    "print(len(fixed_answer11[0]))\n",
    "print(len(fixed_answer11[0][0]))\n",
    "print(len(fixed_upsamlind2d_array))\n",
    "print(len(fixed_upsamlind2d_array[0]))\n",
    "print(len(fixed_upsamlind2d_array[0][0]))"
   ]
  },
  {
   "cell_type": "code",
   "execution_count": null,
   "id": "4e90ca98",
   "metadata": {},
   "outputs": [],
   "source": [
    "fixed_concate_layer = concatenate(pre_layer=fixed_upsamlind2d_array , late_layer=fixed_leaky_re_lu_5)\n",
    "float_concate_layer = concatenate(pre_layer=float_upsamlind2d_array , late_layer=float_leaky_re_lu_5)"
   ]
  },
  {
   "cell_type": "code",
   "execution_count": null,
   "id": "235b6239",
   "metadata": {},
   "outputs": [],
   "source": [
    "reader = {}\n",
    "reader[\"floating_answer\"] = float_concate_layer\n",
    "reader[\"fixed_answer\"]    = fixed_concate_layer\n",
    "TODO_LIST = [\"conv\",\"batch\",\"relu\"]\n",
    "print(len(float_concate_layer))\n",
    "print(len(float_concate_layer[0]))\n",
    "print(len(float_concate_layer[0][0]))"
   ]
  },
  {
   "cell_type": "code",
   "execution_count": null,
   "id": "d963484d",
   "metadata": {},
   "outputs": [],
   "source": [
    "floating_answer12 , fixed_answer12 , float_node12 , fixed_node12 = layer_information(TODO_List=TODO_LIST,\n",
    "                                                   layer_number=\"layer12\",\n",
    "                                                   input_feature_map_array=reader,\n",
    "                                                   conv=(\"conv\",3,1,1),\n",
    "                                                   max_pool=(\"None\",(None,None),(None,None)),\n",
    "                                                   relu=(\"Leakyrelu\",0.10000000149011612),\n",
    "                                                   batch=(\"batch\",12,(\"weight\",128,288,9),(\"gamma\"),(\"variance\"),(\"mean\"),(\"beta\")),\n",
    "                                                   output_channel=128,\n",
    "                                                   branch_node = None\n",
    "                                                   )"
   ]
  },
  {
   "cell_type": "code",
   "execution_count": null,
   "id": "6f9ff4f8",
   "metadata": {},
   "outputs": [],
   "source": [
    "reader = {}\n",
    "reader[\"floating_answer\"] = floating_answer12\n",
    "reader[\"fixed_answer\"]    = fixed_answer12\n",
    "TODO_LIST = [\"conv\"]\n",
    "print(len(floating_answer12))\n",
    "print(len(floating_answer12[0]))\n",
    "print(len(floating_answer12[0][0]))"
   ]
  },
  {
   "cell_type": "code",
   "execution_count": null,
   "id": "d4761d5a",
   "metadata": {},
   "outputs": [],
   "source": [
    "floating_answer13 , fixed_answer13 , float_node13 , fixed_node13 = layer_information(TODO_List=TODO_LIST,\n",
    "                                                   layer_number=\"layer13\",\n",
    "                                                   input_feature_map_array=reader,\n",
    "                                                   conv=(\"conv\",1,1,0),\n",
    "                                                   max_pool=(\"None\",(None,None),(None,None)),\n",
    "                                                   relu=(\"None\",None),\n",
    "                                                   batch=(\"batch\",13,(\"weight\",18,128,1),(\"bias\")),\n",
    "                                                   output_channel=18,\n",
    "                                                   branch_node = None\n",
    "                                                   )"
   ]
  }
 ],
 "metadata": {
  "kernelspec": {
   "display_name": "Python 3 (ipykernel)",
   "language": "python",
   "name": "python3"
  },
  "language_info": {
   "codemirror_mode": {
    "name": "ipython",
    "version": 3
   },
   "file_extension": ".py",
   "mimetype": "text/x-python",
   "name": "python",
   "nbconvert_exporter": "python",
   "pygments_lexer": "ipython3",
   "version": "3.9.6"
  }
 },
 "nbformat": 4,
 "nbformat_minor": 5
}
